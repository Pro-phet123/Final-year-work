{
 "cells": [
  {
   "cell_type": "code",
   "execution_count": 1,
   "metadata": {},
   "outputs": [
    {
     "name": "stdout",
     "output_type": "stream",
     "text": [
      "Requirement already satisfied: streamlit in c:\\users\\user\\appdata\\local\\programs\\python\\python310\\lib\\site-packages (1.26.0)\n",
      "Requirement already satisfied: altair<6,>=4.0 in c:\\users\\user\\appdata\\local\\programs\\python\\python310\\lib\\site-packages (from streamlit) (5.1.1)\n",
      "Requirement already satisfied: blinker<2,>=1.0.0 in c:\\users\\user\\appdata\\local\\programs\\python\\python310\\lib\\site-packages (from streamlit) (1.6.2)\n",
      "Requirement already satisfied: cachetools<6,>=4.0 in c:\\users\\user\\appdata\\local\\programs\\python\\python310\\lib\\site-packages (from streamlit) (5.3.1)\n",
      "Requirement already satisfied: click<9,>=7.0 in c:\\users\\user\\appdata\\local\\programs\\python\\python310\\lib\\site-packages (from streamlit) (8.1.7)\n",
      "Requirement already satisfied: importlib-metadata<7,>=1.4 in c:\\users\\user\\appdata\\local\\programs\\python\\python310\\lib\\site-packages (from streamlit) (6.8.0)\n",
      "Requirement already satisfied: numpy<2,>=1.19.3 in c:\\users\\user\\appdata\\local\\programs\\python\\python310\\lib\\site-packages (from streamlit) (1.24.3)\n",
      "Requirement already satisfied: packaging<24,>=16.8 in c:\\users\\user\\appdata\\roaming\\python\\python310\\site-packages (from streamlit) (23.1)\n",
      "Requirement already satisfied: pandas<3,>=1.3.0 in c:\\users\\user\\appdata\\local\\programs\\python\\python310\\lib\\site-packages (from streamlit) (2.1.0)\n",
      "Requirement already satisfied: pillow<10,>=7.1.0 in c:\\users\\user\\appdata\\local\\programs\\python\\python310\\lib\\site-packages (from streamlit) (9.5.0)\n",
      "Requirement already satisfied: protobuf<5,>=3.20 in c:\\users\\user\\appdata\\local\\programs\\python\\python310\\lib\\site-packages (from streamlit) (4.24.2)\n",
      "Requirement already satisfied: pyarrow>=6.0 in c:\\users\\user\\appdata\\local\\programs\\python\\python310\\lib\\site-packages (from streamlit) (13.0.0)\n",
      "Requirement already satisfied: pympler<2,>=0.9 in c:\\users\\user\\appdata\\local\\programs\\python\\python310\\lib\\site-packages (from streamlit) (1.0.1)\n",
      "Requirement already satisfied: python-dateutil<3,>=2.7.3 in c:\\users\\user\\appdata\\roaming\\python\\python310\\site-packages (from streamlit) (2.8.2)\n",
      "Requirement already satisfied: requests<3,>=2.18 in c:\\users\\user\\appdata\\local\\programs\\python\\python310\\lib\\site-packages (from streamlit) (2.31.0)\n",
      "Requirement already satisfied: rich<14,>=10.14.0 in c:\\users\\user\\appdata\\local\\programs\\python\\python310\\lib\\site-packages (from streamlit) (13.5.2)\n",
      "Requirement already satisfied: tenacity<9,>=8.1.0 in c:\\users\\user\\appdata\\local\\programs\\python\\python310\\lib\\site-packages (from streamlit) (8.2.3)\n",
      "Requirement already satisfied: toml<2,>=0.10.1 in c:\\users\\user\\appdata\\local\\programs\\python\\python310\\lib\\site-packages (from streamlit) (0.10.2)\n",
      "Requirement already satisfied: typing-extensions<5,>=4.1.0 in c:\\users\\user\\appdata\\local\\programs\\python\\python310\\lib\\site-packages (from streamlit) (4.5.0)\n",
      "Requirement already satisfied: tzlocal<5,>=1.1 in c:\\users\\user\\appdata\\local\\programs\\python\\python310\\lib\\site-packages (from streamlit) (4.3.1)\n",
      "Requirement already satisfied: validators<1,>=0.2 in c:\\users\\user\\appdata\\local\\programs\\python\\python310\\lib\\site-packages (from streamlit) (0.22.0)\n",
      "Requirement already satisfied: gitpython!=3.1.19,<4,>=3.0.7 in c:\\users\\user\\appdata\\local\\programs\\python\\python310\\lib\\site-packages (from streamlit) (3.1.34)\n",
      "Requirement already satisfied: pydeck<1,>=0.8 in c:\\users\\user\\appdata\\local\\programs\\python\\python310\\lib\\site-packages (from streamlit) (0.8.0)\n",
      "Requirement already satisfied: tornado<7,>=6.0.3 in c:\\users\\user\\appdata\\roaming\\python\\python310\\site-packages (from streamlit) (6.3.3)\n",
      "Requirement already satisfied: watchdog>=2.1.5 in c:\\users\\user\\appdata\\local\\programs\\python\\python310\\lib\\site-packages (from streamlit) (3.0.0)\n",
      "Requirement already satisfied: jinja2 in c:\\users\\user\\appdata\\local\\programs\\python\\python310\\lib\\site-packages (from altair<6,>=4.0->streamlit) (3.1.2)\n",
      "Requirement already satisfied: jsonschema>=3.0 in c:\\users\\user\\appdata\\local\\programs\\python\\python310\\lib\\site-packages (from altair<6,>=4.0->streamlit) (4.19.0)\n",
      "Requirement already satisfied: toolz in c:\\users\\user\\appdata\\local\\programs\\python\\python310\\lib\\site-packages (from altair<6,>=4.0->streamlit) (0.12.0)\n",
      "Requirement already satisfied: colorama in c:\\users\\user\\appdata\\roaming\\python\\python310\\site-packages (from click<9,>=7.0->streamlit) (0.4.6)\n",
      "Requirement already satisfied: gitdb<5,>=4.0.1 in c:\\users\\user\\appdata\\local\\programs\\python\\python310\\lib\\site-packages (from gitpython!=3.1.19,<4,>=3.0.7->streamlit) (4.0.10)\n",
      "Requirement already satisfied: zipp>=0.5 in c:\\users\\user\\appdata\\local\\programs\\python\\python310\\lib\\site-packages (from importlib-metadata<7,>=1.4->streamlit) (3.16.2)\n",
      "Requirement already satisfied: pytz>=2020.1 in c:\\users\\user\\appdata\\local\\programs\\python\\python310\\lib\\site-packages (from pandas<3,>=1.3.0->streamlit) (2023.3.post1)\n",
      "Requirement already satisfied: tzdata>=2022.1 in c:\\users\\user\\appdata\\local\\programs\\python\\python310\\lib\\site-packages (from pandas<3,>=1.3.0->streamlit) (2023.3)\n",
      "Requirement already satisfied: six>=1.5 in c:\\users\\user\\appdata\\roaming\\python\\python310\\site-packages (from python-dateutil<3,>=2.7.3->streamlit) (1.16.0)\n",
      "Requirement already satisfied: charset-normalizer<4,>=2 in c:\\users\\user\\appdata\\local\\programs\\python\\python310\\lib\\site-packages (from requests<3,>=2.18->streamlit) (3.2.0)\n",
      "Requirement already satisfied: idna<4,>=2.5 in c:\\users\\user\\appdata\\local\\programs\\python\\python310\\lib\\site-packages (from requests<3,>=2.18->streamlit) (3.4)\n",
      "Requirement already satisfied: urllib3<3,>=1.21.1 in c:\\users\\user\\appdata\\local\\programs\\python\\python310\\lib\\site-packages (from requests<3,>=2.18->streamlit) (1.26.16)\n",
      "Requirement already satisfied: certifi>=2017.4.17 in c:\\users\\user\\appdata\\local\\programs\\python\\python310\\lib\\site-packages (from requests<3,>=2.18->streamlit) (2023.7.22)\n",
      "Requirement already satisfied: markdown-it-py>=2.2.0 in c:\\users\\user\\appdata\\local\\programs\\python\\python310\\lib\\site-packages (from rich<14,>=10.14.0->streamlit) (3.0.0)\n",
      "Requirement already satisfied: pygments<3.0.0,>=2.13.0 in c:\\users\\user\\appdata\\roaming\\python\\python310\\site-packages (from rich<14,>=10.14.0->streamlit) (2.16.1)\n",
      "Requirement already satisfied: pytz-deprecation-shim in c:\\users\\user\\appdata\\local\\programs\\python\\python310\\lib\\site-packages (from tzlocal<5,>=1.1->streamlit) (0.1.0.post0)\n",
      "Requirement already satisfied: smmap<6,>=3.0.1 in c:\\users\\user\\appdata\\local\\programs\\python\\python310\\lib\\site-packages (from gitdb<5,>=4.0.1->gitpython!=3.1.19,<4,>=3.0.7->streamlit) (5.0.0)\n",
      "Requirement already satisfied: MarkupSafe>=2.0 in c:\\users\\user\\appdata\\local\\programs\\python\\python310\\lib\\site-packages (from jinja2->altair<6,>=4.0->streamlit) (2.1.3)\n",
      "Requirement already satisfied: attrs>=22.2.0 in c:\\users\\user\\appdata\\local\\programs\\python\\python310\\lib\\site-packages (from jsonschema>=3.0->altair<6,>=4.0->streamlit) (23.1.0)\n",
      "Requirement already satisfied: jsonschema-specifications>=2023.03.6 in c:\\users\\user\\appdata\\local\\programs\\python\\python310\\lib\\site-packages (from jsonschema>=3.0->altair<6,>=4.0->streamlit) (2023.7.1)\n",
      "Requirement already satisfied: referencing>=0.28.4 in c:\\users\\user\\appdata\\local\\programs\\python\\python310\\lib\\site-packages (from jsonschema>=3.0->altair<6,>=4.0->streamlit) (0.30.2)\n",
      "Requirement already satisfied: rpds-py>=0.7.1 in c:\\users\\user\\appdata\\local\\programs\\python\\python310\\lib\\site-packages (from jsonschema>=3.0->altair<6,>=4.0->streamlit) (0.10.2)\n",
      "Requirement already satisfied: mdurl~=0.1 in c:\\users\\user\\appdata\\local\\programs\\python\\python310\\lib\\site-packages (from markdown-it-py>=2.2.0->rich<14,>=10.14.0->streamlit) (0.1.2)\n"
     ]
    },
    {
     "name": "stderr",
     "output_type": "stream",
     "text": [
      "WARNING: Retrying (Retry(total=4, connect=None, read=None, redirect=None, status=None)) after connection broken by 'NewConnectionError('<pip._vendor.urllib3.connection.HTTPSConnection object at 0x000001275EDE1240>: Failed to establish a new connection: [Errno 11001] getaddrinfo failed')': /simple/streamlit/\n",
      "WARNING: Retrying (Retry(total=3, connect=None, read=None, redirect=None, status=None)) after connection broken by 'NewConnectionError('<pip._vendor.urllib3.connection.HTTPSConnection object at 0x000001275EDE1540>: Failed to establish a new connection: [Errno 11001] getaddrinfo failed')': /simple/streamlit/\n",
      "WARNING: Retrying (Retry(total=2, connect=None, read=None, redirect=None, status=None)) after connection broken by 'NewConnectionError('<pip._vendor.urllib3.connection.HTTPSConnection object at 0x000001275EDE16F0>: Failed to establish a new connection: [Errno 11001] getaddrinfo failed')': /simple/streamlit/\n",
      "WARNING: Retrying (Retry(total=1, connect=None, read=None, redirect=None, status=None)) after connection broken by 'NewConnectionError('<pip._vendor.urllib3.connection.HTTPSConnection object at 0x000001275EDE18A0>: Failed to establish a new connection: [Errno 11001] getaddrinfo failed')': /simple/streamlit/\n",
      "WARNING: Retrying (Retry(total=0, connect=None, read=None, redirect=None, status=None)) after connection broken by 'NewConnectionError('<pip._vendor.urllib3.connection.HTTPSConnection object at 0x000001275EDE1A50>: Failed to establish a new connection: [Errno 11001] getaddrinfo failed')': /simple/streamlit/\n"
     ]
    }
   ],
   "source": [
    "! pip install --upgrade streamlit"
   ]
  },
  {
   "cell_type": "code",
   "execution_count": 2,
   "metadata": {},
   "outputs": [
    {
     "name": "stdout",
     "output_type": "stream",
     "text": [
      "Requirement already satisfied: pip in c:\\users\\user\\appdata\\local\\programs\\python\\python310\\lib\\site-packages (23.2.1)\n"
     ]
    },
    {
     "name": "stderr",
     "output_type": "stream",
     "text": [
      "WARNING: Retrying (Retry(total=4, connect=None, read=None, redirect=None, status=None)) after connection broken by 'NewConnectionError('<pip._vendor.urllib3.connection.HTTPSConnection object at 0x00000136754D1210>: Failed to establish a new connection: [Errno 11001] getaddrinfo failed')': /simple/pip/\n",
      "WARNING: Retrying (Retry(total=3, connect=None, read=None, redirect=None, status=None)) after connection broken by 'NewConnectionError('<pip._vendor.urllib3.connection.HTTPSConnection object at 0x00000136754D1510>: Failed to establish a new connection: [Errno 11001] getaddrinfo failed')': /simple/pip/\n",
      "WARNING: Retrying (Retry(total=2, connect=None, read=None, redirect=None, status=None)) after connection broken by 'NewConnectionError('<pip._vendor.urllib3.connection.HTTPSConnection object at 0x00000136754D16C0>: Failed to establish a new connection: [Errno 11001] getaddrinfo failed')': /simple/pip/\n",
      "WARNING: Retrying (Retry(total=1, connect=None, read=None, redirect=None, status=None)) after connection broken by 'NewConnectionError('<pip._vendor.urllib3.connection.HTTPSConnection object at 0x00000136754D1870>: Failed to establish a new connection: [Errno 11001] getaddrinfo failed')': /simple/pip/\n",
      "WARNING: Retrying (Retry(total=0, connect=None, read=None, redirect=None, status=None)) after connection broken by 'NewConnectionError('<pip._vendor.urllib3.connection.HTTPSConnection object at 0x00000136754D1A20>: Failed to establish a new connection: [Errno 11001] getaddrinfo failed')': /simple/pip/\n"
     ]
    }
   ],
   "source": [
    "!pip install --upgrade pip"
   ]
  },
  {
   "cell_type": "code",
   "execution_count": 3,
   "metadata": {},
   "outputs": [
    {
     "name": "stdout",
     "output_type": "stream",
     "text": [
      "Requirement already satisfied: h5py in c:\\users\\user\\appdata\\local\\programs\\python\\python310\\lib\\site-packages (3.9.0)\n",
      "Requirement already satisfied: numpy>=1.17.3 in c:\\users\\user\\appdata\\local\\programs\\python\\python310\\lib\\site-packages (from h5py) (1.24.3)\n"
     ]
    },
    {
     "name": "stderr",
     "output_type": "stream",
     "text": [
      "WARNING: Retrying (Retry(total=4, connect=None, read=None, redirect=None, status=None)) after connection broken by 'NewConnectionError('<pip._vendor.urllib3.connection.HTTPSConnection object at 0x000001F7571C5270>: Failed to establish a new connection: [Errno 11001] getaddrinfo failed')': /simple/h5py/\n",
      "WARNING: Retrying (Retry(total=3, connect=None, read=None, redirect=None, status=None)) after connection broken by 'NewConnectionError('<pip._vendor.urllib3.connection.HTTPSConnection object at 0x000001F7571C5570>: Failed to establish a new connection: [Errno 11001] getaddrinfo failed')': /simple/h5py/\n",
      "WARNING: Retrying (Retry(total=2, connect=None, read=None, redirect=None, status=None)) after connection broken by 'NewConnectionError('<pip._vendor.urllib3.connection.HTTPSConnection object at 0x000001F7571C5720>: Failed to establish a new connection: [Errno 11001] getaddrinfo failed')': /simple/h5py/\n",
      "WARNING: Retrying (Retry(total=1, connect=None, read=None, redirect=None, status=None)) after connection broken by 'NewConnectionError('<pip._vendor.urllib3.connection.HTTPSConnection object at 0x000001F7571C58D0>: Failed to establish a new connection: [Errno 11001] getaddrinfo failed')': /simple/h5py/\n",
      "WARNING: Retrying (Retry(total=0, connect=None, read=None, redirect=None, status=None)) after connection broken by 'NewConnectionError('<pip._vendor.urllib3.connection.HTTPSConnection object at 0x000001F7571C5A80>: Failed to establish a new connection: [Errno 11001] getaddrinfo failed')': /simple/h5py/\n"
     ]
    }
   ],
   "source": [
    "! pip install --upgrade h5py "
   ]
  },
  {
   "cell_type": "code",
   "execution_count": 4,
   "metadata": {},
   "outputs": [
    {
     "name": "stdout",
     "output_type": "stream",
     "text": [
      "Requirement already satisfied: numpy in c:\\users\\user\\appdata\\local\\programs\\python\\python310\\lib\\site-packages (1.24.3)\n"
     ]
    },
    {
     "name": "stderr",
     "output_type": "stream",
     "text": [
      "WARNING: Retrying (Retry(total=4, connect=None, read=None, redirect=None, status=None)) after connection broken by 'NewConnectionError('<pip._vendor.urllib3.connection.HTTPSConnection object at 0x000002D86B241270>: Failed to establish a new connection: [Errno 11001] getaddrinfo failed')': /simple/numpy/\n",
      "WARNING: Retrying (Retry(total=3, connect=None, read=None, redirect=None, status=None)) after connection broken by 'NewConnectionError('<pip._vendor.urllib3.connection.HTTPSConnection object at 0x000002D86B241570>: Failed to establish a new connection: [Errno 11001] getaddrinfo failed')': /simple/numpy/\n",
      "WARNING: Retrying (Retry(total=2, connect=None, read=None, redirect=None, status=None)) after connection broken by 'NewConnectionError('<pip._vendor.urllib3.connection.HTTPSConnection object at 0x000002D86B241720>: Failed to establish a new connection: [Errno 11001] getaddrinfo failed')': /simple/numpy/\n",
      "WARNING: Retrying (Retry(total=1, connect=None, read=None, redirect=None, status=None)) after connection broken by 'NewConnectionError('<pip._vendor.urllib3.connection.HTTPSConnection object at 0x000002D86B2418D0>: Failed to establish a new connection: [Errno 11001] getaddrinfo failed')': /simple/numpy/\n",
      "WARNING: Retrying (Retry(total=0, connect=None, read=None, redirect=None, status=None)) after connection broken by 'NewConnectionError('<pip._vendor.urllib3.connection.HTTPSConnection object at 0x000002D86B241A80>: Failed to establish a new connection: [Errno 11001] getaddrinfo failed')': /simple/numpy/\n"
     ]
    }
   ],
   "source": [
    "!pip install --upgrade numpy"
   ]
  },
  {
   "cell_type": "code",
   "execution_count": 5,
   "metadata": {},
   "outputs": [
    {
     "name": "stdout",
     "output_type": "stream",
     "text": [
      "Requirement already satisfied: tensorflow in c:\\users\\user\\appdata\\local\\programs\\python\\python310\\lib\\site-packages (2.13.0)\n",
      "Requirement already satisfied: tensorflow-intel==2.13.0 in c:\\users\\user\\appdata\\local\\programs\\python\\python310\\lib\\site-packages (from tensorflow) (2.13.0)\n",
      "Requirement already satisfied: absl-py>=1.0.0 in c:\\users\\user\\appdata\\local\\programs\\python\\python310\\lib\\site-packages (from tensorflow-intel==2.13.0->tensorflow) (1.4.0)\n",
      "Requirement already satisfied: astunparse>=1.6.0 in c:\\users\\user\\appdata\\local\\programs\\python\\python310\\lib\\site-packages (from tensorflow-intel==2.13.0->tensorflow) (1.6.3)\n",
      "Requirement already satisfied: flatbuffers>=23.1.21 in c:\\users\\user\\appdata\\local\\programs\\python\\python310\\lib\\site-packages (from tensorflow-intel==2.13.0->tensorflow) (23.5.26)\n",
      "Requirement already satisfied: gast<=0.4.0,>=0.2.1 in c:\\users\\user\\appdata\\local\\programs\\python\\python310\\lib\\site-packages (from tensorflow-intel==2.13.0->tensorflow) (0.4.0)\n",
      "Requirement already satisfied: google-pasta>=0.1.1 in c:\\users\\user\\appdata\\local\\programs\\python\\python310\\lib\\site-packages (from tensorflow-intel==2.13.0->tensorflow) (0.2.0)\n",
      "Requirement already satisfied: h5py>=2.9.0 in c:\\users\\user\\appdata\\local\\programs\\python\\python310\\lib\\site-packages (from tensorflow-intel==2.13.0->tensorflow) (3.9.0)\n",
      "Requirement already satisfied: libclang>=13.0.0 in c:\\users\\user\\appdata\\local\\programs\\python\\python310\\lib\\site-packages (from tensorflow-intel==2.13.0->tensorflow) (16.0.6)\n",
      "Requirement already satisfied: numpy<=1.24.3,>=1.22 in c:\\users\\user\\appdata\\local\\programs\\python\\python310\\lib\\site-packages (from tensorflow-intel==2.13.0->tensorflow) (1.24.3)\n",
      "Requirement already satisfied: opt-einsum>=2.3.2 in c:\\users\\user\\appdata\\local\\programs\\python\\python310\\lib\\site-packages (from tensorflow-intel==2.13.0->tensorflow) (3.3.0)\n",
      "Requirement already satisfied: packaging in c:\\users\\user\\appdata\\roaming\\python\\python310\\site-packages (from tensorflow-intel==2.13.0->tensorflow) (23.1)\n",
      "Requirement already satisfied: protobuf!=4.21.0,!=4.21.1,!=4.21.2,!=4.21.3,!=4.21.4,!=4.21.5,<5.0.0dev,>=3.20.3 in c:\\users\\user\\appdata\\local\\programs\\python\\python310\\lib\\site-packages (from tensorflow-intel==2.13.0->tensorflow) (4.24.2)\n",
      "Requirement already satisfied: setuptools in c:\\users\\user\\appdata\\local\\programs\\python\\python310\\lib\\site-packages (from tensorflow-intel==2.13.0->tensorflow) (63.2.0)\n",
      "Requirement already satisfied: six>=1.12.0 in c:\\users\\user\\appdata\\roaming\\python\\python310\\site-packages (from tensorflow-intel==2.13.0->tensorflow) (1.16.0)\n",
      "Requirement already satisfied: termcolor>=1.1.0 in c:\\users\\user\\appdata\\local\\programs\\python\\python310\\lib\\site-packages (from tensorflow-intel==2.13.0->tensorflow) (2.3.0)\n",
      "Requirement already satisfied: typing-extensions<4.6.0,>=3.6.6 in c:\\users\\user\\appdata\\local\\programs\\python\\python310\\lib\\site-packages (from tensorflow-intel==2.13.0->tensorflow) (4.5.0)\n",
      "Requirement already satisfied: wrapt>=1.11.0 in c:\\users\\user\\appdata\\local\\programs\\python\\python310\\lib\\site-packages (from tensorflow-intel==2.13.0->tensorflow) (1.15.0)\n",
      "Requirement already satisfied: grpcio<2.0,>=1.24.3 in c:\\users\\user\\appdata\\local\\programs\\python\\python310\\lib\\site-packages (from tensorflow-intel==2.13.0->tensorflow) (1.57.0)\n",
      "Requirement already satisfied: tensorboard<2.14,>=2.13 in c:\\users\\user\\appdata\\local\\programs\\python\\python310\\lib\\site-packages (from tensorflow-intel==2.13.0->tensorflow) (2.13.0)\n",
      "Requirement already satisfied: tensorflow-estimator<2.14,>=2.13.0 in c:\\users\\user\\appdata\\local\\programs\\python\\python310\\lib\\site-packages (from tensorflow-intel==2.13.0->tensorflow) (2.13.0)\n",
      "Requirement already satisfied: keras<2.14,>=2.13.1 in c:\\users\\user\\appdata\\local\\programs\\python\\python310\\lib\\site-packages (from tensorflow-intel==2.13.0->tensorflow) (2.13.1)\n",
      "Requirement already satisfied: tensorflow-io-gcs-filesystem>=0.23.1 in c:\\users\\user\\appdata\\local\\programs\\python\\python310\\lib\\site-packages (from tensorflow-intel==2.13.0->tensorflow) (0.31.0)\n",
      "Requirement already satisfied: wheel<1.0,>=0.23.0 in c:\\users\\user\\appdata\\local\\programs\\python\\python310\\lib\\site-packages (from astunparse>=1.6.0->tensorflow-intel==2.13.0->tensorflow) (0.41.2)\n",
      "Requirement already satisfied: google-auth<3,>=1.6.3 in c:\\users\\user\\appdata\\local\\programs\\python\\python310\\lib\\site-packages (from tensorboard<2.14,>=2.13->tensorflow-intel==2.13.0->tensorflow) (2.22.0)\n",
      "Requirement already satisfied: google-auth-oauthlib<1.1,>=0.5 in c:\\users\\user\\appdata\\local\\programs\\python\\python310\\lib\\site-packages (from tensorboard<2.14,>=2.13->tensorflow-intel==2.13.0->tensorflow) (1.0.0)\n",
      "Requirement already satisfied: markdown>=2.6.8 in c:\\users\\user\\appdata\\local\\programs\\python\\python310\\lib\\site-packages (from tensorboard<2.14,>=2.13->tensorflow-intel==2.13.0->tensorflow) (3.4.4)\n",
      "Requirement already satisfied: requests<3,>=2.21.0 in c:\\users\\user\\appdata\\local\\programs\\python\\python310\\lib\\site-packages (from tensorboard<2.14,>=2.13->tensorflow-intel==2.13.0->tensorflow) (2.31.0)\n",
      "Requirement already satisfied: tensorboard-data-server<0.8.0,>=0.7.0 in c:\\users\\user\\appdata\\local\\programs\\python\\python310\\lib\\site-packages (from tensorboard<2.14,>=2.13->tensorflow-intel==2.13.0->tensorflow) (0.7.1)\n",
      "Requirement already satisfied: werkzeug>=1.0.1 in c:\\users\\user\\appdata\\local\\programs\\python\\python310\\lib\\site-packages (from tensorboard<2.14,>=2.13->tensorflow-intel==2.13.0->tensorflow) (2.3.7)\n",
      "Requirement already satisfied: cachetools<6.0,>=2.0.0 in c:\\users\\user\\appdata\\local\\programs\\python\\python310\\lib\\site-packages (from google-auth<3,>=1.6.3->tensorboard<2.14,>=2.13->tensorflow-intel==2.13.0->tensorflow) (5.3.1)\n",
      "Requirement already satisfied: pyasn1-modules>=0.2.1 in c:\\users\\user\\appdata\\local\\programs\\python\\python310\\lib\\site-packages (from google-auth<3,>=1.6.3->tensorboard<2.14,>=2.13->tensorflow-intel==2.13.0->tensorflow) (0.3.0)\n",
      "Requirement already satisfied: rsa<5,>=3.1.4 in c:\\users\\user\\appdata\\local\\programs\\python\\python310\\lib\\site-packages (from google-auth<3,>=1.6.3->tensorboard<2.14,>=2.13->tensorflow-intel==2.13.0->tensorflow) (4.9)\n",
      "Requirement already satisfied: urllib3<2.0 in c:\\users\\user\\appdata\\local\\programs\\python\\python310\\lib\\site-packages (from google-auth<3,>=1.6.3->tensorboard<2.14,>=2.13->tensorflow-intel==2.13.0->tensorflow) (1.26.16)\n",
      "Requirement already satisfied: requests-oauthlib>=0.7.0 in c:\\users\\user\\appdata\\local\\programs\\python\\python310\\lib\\site-packages (from google-auth-oauthlib<1.1,>=0.5->tensorboard<2.14,>=2.13->tensorflow-intel==2.13.0->tensorflow) (1.3.1)\n",
      "Requirement already satisfied: charset-normalizer<4,>=2 in c:\\users\\user\\appdata\\local\\programs\\python\\python310\\lib\\site-packages (from requests<3,>=2.21.0->tensorboard<2.14,>=2.13->tensorflow-intel==2.13.0->tensorflow) (3.2.0)\n",
      "Requirement already satisfied: idna<4,>=2.5 in c:\\users\\user\\appdata\\local\\programs\\python\\python310\\lib\\site-packages (from requests<3,>=2.21.0->tensorboard<2.14,>=2.13->tensorflow-intel==2.13.0->tensorflow) (3.4)\n",
      "Requirement already satisfied: certifi>=2017.4.17 in c:\\users\\user\\appdata\\local\\programs\\python\\python310\\lib\\site-packages (from requests<3,>=2.21.0->tensorboard<2.14,>=2.13->tensorflow-intel==2.13.0->tensorflow) (2023.7.22)\n",
      "Requirement already satisfied: MarkupSafe>=2.1.1 in c:\\users\\user\\appdata\\local\\programs\\python\\python310\\lib\\site-packages (from werkzeug>=1.0.1->tensorboard<2.14,>=2.13->tensorflow-intel==2.13.0->tensorflow) (2.1.3)\n",
      "Requirement already satisfied: pyasn1<0.6.0,>=0.4.6 in c:\\users\\user\\appdata\\local\\programs\\python\\python310\\lib\\site-packages (from pyasn1-modules>=0.2.1->google-auth<3,>=1.6.3->tensorboard<2.14,>=2.13->tensorflow-intel==2.13.0->tensorflow) (0.5.0)\n",
      "Requirement already satisfied: oauthlib>=3.0.0 in c:\\users\\user\\appdata\\local\\programs\\python\\python310\\lib\\site-packages (from requests-oauthlib>=0.7.0->google-auth-oauthlib<1.1,>=0.5->tensorboard<2.14,>=2.13->tensorflow-intel==2.13.0->tensorflow) (3.2.2)\n",
      "Note: you may need to restart the kernel to use updated packages.\n"
     ]
    },
    {
     "name": "stderr",
     "output_type": "stream",
     "text": [
      "WARNING: Retrying (Retry(total=4, connect=None, read=None, redirect=None, status=None)) after connection broken by 'NewConnectionError('<pip._vendor.urllib3.connection.HTTPSConnection object at 0x0000016D943CD2D0>: Failed to establish a new connection: [Errno 11001] getaddrinfo failed')': /simple/tensorflow/\n",
      "WARNING: Retrying (Retry(total=3, connect=None, read=None, redirect=None, status=None)) after connection broken by 'NewConnectionError('<pip._vendor.urllib3.connection.HTTPSConnection object at 0x0000016D943CD5D0>: Failed to establish a new connection: [Errno 11001] getaddrinfo failed')': /simple/tensorflow/\n",
      "WARNING: Retrying (Retry(total=2, connect=None, read=None, redirect=None, status=None)) after connection broken by 'NewConnectionError('<pip._vendor.urllib3.connection.HTTPSConnection object at 0x0000016D943CD780>: Failed to establish a new connection: [Errno 11001] getaddrinfo failed')': /simple/tensorflow/\n",
      "WARNING: Retrying (Retry(total=1, connect=None, read=None, redirect=None, status=None)) after connection broken by 'NewConnectionError('<pip._vendor.urllib3.connection.HTTPSConnection object at 0x0000016D943CD930>: Failed to establish a new connection: [Errno 11001] getaddrinfo failed')': /simple/tensorflow/\n",
      "WARNING: Retrying (Retry(total=0, connect=None, read=None, redirect=None, status=None)) after connection broken by 'NewConnectionError('<pip._vendor.urllib3.connection.HTTPSConnection object at 0x0000016D943CDAE0>: Failed to establish a new connection: [Errno 11001] getaddrinfo failed')': /simple/tensorflow/\n"
     ]
    }
   ],
   "source": [
    "%pip install --upgrade tensorflow"
   ]
  },
  {
   "cell_type": "code",
   "execution_count": 6,
   "metadata": {},
   "outputs": [
    {
     "name": "stdout",
     "output_type": "stream",
     "text": [
      "Requirement already satisfied: pandas in c:\\users\\user\\appdata\\local\\programs\\python\\python310\\lib\\site-packages (2.1.0)\n",
      "Requirement already satisfied: numpy>=1.22.4 in c:\\users\\user\\appdata\\local\\programs\\python\\python310\\lib\\site-packages (from pandas) (1.24.3)\n",
      "Requirement already satisfied: python-dateutil>=2.8.2 in c:\\users\\user\\appdata\\roaming\\python\\python310\\site-packages (from pandas) (2.8.2)\n",
      "Requirement already satisfied: pytz>=2020.1 in c:\\users\\user\\appdata\\local\\programs\\python\\python310\\lib\\site-packages (from pandas) (2023.3.post1)\n",
      "Requirement already satisfied: tzdata>=2022.1 in c:\\users\\user\\appdata\\local\\programs\\python\\python310\\lib\\site-packages (from pandas) (2023.3)\n",
      "Requirement already satisfied: six>=1.5 in c:\\users\\user\\appdata\\roaming\\python\\python310\\site-packages (from python-dateutil>=2.8.2->pandas) (1.16.0)\n"
     ]
    },
    {
     "name": "stderr",
     "output_type": "stream",
     "text": [
      "WARNING: Retrying (Retry(total=4, connect=None, read=None, redirect=None, status=None)) after connection broken by 'NewConnectionError('<pip._vendor.urllib3.connection.HTTPSConnection object at 0x00000267DA3D12D0>: Failed to establish a new connection: [Errno 11001] getaddrinfo failed')': /simple/pandas/\n",
      "WARNING: Retrying (Retry(total=3, connect=None, read=None, redirect=None, status=None)) after connection broken by 'NewConnectionError('<pip._vendor.urllib3.connection.HTTPSConnection object at 0x00000267DA3D15D0>: Failed to establish a new connection: [Errno 11001] getaddrinfo failed')': /simple/pandas/\n",
      "WARNING: Retrying (Retry(total=2, connect=None, read=None, redirect=None, status=None)) after connection broken by 'NewConnectionError('<pip._vendor.urllib3.connection.HTTPSConnection object at 0x00000267DA3D1780>: Failed to establish a new connection: [Errno 11001] getaddrinfo failed')': /simple/pandas/\n",
      "WARNING: Retrying (Retry(total=1, connect=None, read=None, redirect=None, status=None)) after connection broken by 'NewConnectionError('<pip._vendor.urllib3.connection.HTTPSConnection object at 0x00000267DA3D1930>: Failed to establish a new connection: [Errno 11001] getaddrinfo failed')': /simple/pandas/\n",
      "WARNING: Retrying (Retry(total=0, connect=None, read=None, redirect=None, status=None)) after connection broken by 'NewConnectionError('<pip._vendor.urllib3.connection.HTTPSConnection object at 0x00000267DA3D1AE0>: Failed to establish a new connection: [Errno 11001] getaddrinfo failed')': /simple/pandas/\n"
     ]
    }
   ],
   "source": [
    "!pip install --upgrade pandas"
   ]
  },
  {
   "cell_type": "code",
   "execution_count": 11,
   "metadata": {},
   "outputs": [
    {
     "name": "stdout",
     "output_type": "stream",
     "text": [
      "Collecting tables\n",
      "  Downloading tables-3.8.0-cp310-cp310-win_amd64.whl (3.6 MB)\n",
      "     ---------------------------------------- 0.0/3.6 MB ? eta -:--:--\n",
      "     -- ------------------------------------- 0.2/3.6 MB ? eta -:--:--\n",
      "     -- ------------------------------------- 0.2/3.6 MB ? eta -:--:--\n",
      "     -- ------------------------------------- 0.2/3.6 MB ? eta -:--:--\n",
      "     -- ------------------------------------- 0.2/3.6 MB ? eta -:--:--\n",
      "     --- ------------------------------------ 0.3/3.6 MB 1.4 MB/s eta 0:00:03\n",
      "     --- ------------------------------------ 0.3/3.6 MB 1.4 MB/s eta 0:00:03\n",
      "     --- ------------------------------------ 0.3/3.6 MB 1.4 MB/s eta 0:00:03\n",
      "     ---- ----------------------------------- 0.4/3.6 MB 1.1 MB/s eta 0:00:03\n",
      "     ---- ----------------------------------- 0.4/3.6 MB 1.1 MB/s eta 0:00:03\n",
      "     ---- ----------------------------------- 0.4/3.6 MB 1.1 MB/s eta 0:00:03\n",
      "     ------ --------------------------------- 0.6/3.6 MB 1.1 MB/s eta 0:00:03\n",
      "     ------- -------------------------------- 0.7/3.6 MB 1.3 MB/s eta 0:00:03\n",
      "     ------- -------------------------------- 0.7/3.6 MB 1.3 MB/s eta 0:00:03\n",
      "     ----------- ---------------------------- 1.0/3.6 MB 1.4 MB/s eta 0:00:02\n",
      "     -------------- ------------------------- 1.3/3.6 MB 1.7 MB/s eta 0:00:02\n",
      "     --------------- ------------------------ 1.4/3.6 MB 1.8 MB/s eta 0:00:02\n",
      "     ------------------- -------------------- 1.8/3.6 MB 2.1 MB/s eta 0:00:01\n",
      "     ----------------------- ---------------- 2.1/3.6 MB 2.4 MB/s eta 0:00:01\n",
      "     --------------------------- ------------ 2.4/3.6 MB 2.6 MB/s eta 0:00:01\n",
      "     --------------------------------- ------ 3.0/3.6 MB 3.0 MB/s eta 0:00:01\n",
      "     ------------------------------------- -- 3.4/3.6 MB 3.2 MB/s eta 0:00:01\n",
      "     ---------------------------------------  3.5/3.6 MB 3.3 MB/s eta 0:00:01\n",
      "     ---------------------------------------  3.6/3.6 MB 3.2 MB/s eta 0:00:01\n",
      "     ---------------------------------------  3.6/3.6 MB 3.2 MB/s eta 0:00:01\n",
      "     ---------------------------------------  3.6/3.6 MB 3.2 MB/s eta 0:00:01\n",
      "     ---------------------------------------  3.6/3.6 MB 3.2 MB/s eta 0:00:01\n",
      "     ---------------------------------------  3.6/3.6 MB 3.2 MB/s eta 0:00:01\n",
      "     ---------------------------------------  3.6/3.6 MB 3.2 MB/s eta 0:00:01\n",
      "     ---------------------------------------  3.6/3.6 MB 3.2 MB/s eta 0:00:01\n",
      "     ---------------------------------------  3.6/3.6 MB 3.2 MB/s eta 0:00:01\n",
      "     ---------------------------------------  3.6/3.6 MB 3.2 MB/s eta 0:00:01\n",
      "     ---------------------------------------  3.6/3.6 MB 3.2 MB/s eta 0:00:01\n",
      "     ---------------------------------------- 3.6/3.6 MB 2.2 MB/s eta 0:00:00\n",
      "Collecting cython>=0.29.21 (from tables)\n",
      "  Obtaining dependency information for cython>=0.29.21 from https://files.pythonhosted.org/packages/db/3e/8cf60af86446b129e79adee5d9131ec7eb043297e20c04bc31670331325c/Cython-3.0.2-cp310-cp310-win_amd64.whl.metadata\n",
      "  Downloading Cython-3.0.2-cp310-cp310-win_amd64.whl.metadata (3.2 kB)\n",
      "Requirement already satisfied: numpy>=1.19.0 in c:\\users\\user\\appdata\\local\\programs\\python\\python310\\lib\\site-packages (from tables) (1.24.3)\n",
      "Collecting numexpr>=2.6.2 (from tables)\n",
      "  Obtaining dependency information for numexpr>=2.6.2 from https://files.pythonhosted.org/packages/a1/0d/17846f5302a9c627835a37df69a9a893e79905006a8e022cac6c2efafe6f/numexpr-2.8.5-cp310-cp310-win_amd64.whl.metadata\n",
      "  Downloading numexpr-2.8.5-cp310-cp310-win_amd64.whl.metadata (8.2 kB)\n",
      "Collecting blosc2~=2.0.0 (from tables)\n",
      "  Downloading blosc2-2.0.0-cp310-cp310-win_amd64.whl (2.0 MB)\n",
      "     ---------------------------------------- 0.0/2.0 MB ? eta -:--:--\n",
      "     ------- -------------------------------- 0.4/2.0 MB 11.6 MB/s eta 0:00:01\n",
      "     --------------- ------------------------ 0.7/2.0 MB 9.5 MB/s eta 0:00:01\n",
      "     -------------------------- ------------- 1.3/2.0 MB 10.4 MB/s eta 0:00:01\n",
      "     -------------------------------- ------- 1.6/2.0 MB 9.1 MB/s eta 0:00:01\n",
      "     -------------------------------------- - 1.9/2.0 MB 8.5 MB/s eta 0:00:01\n",
      "     ---------------------------------------  1.9/2.0 MB 8.8 MB/s eta 0:00:01\n",
      "     ---------------------------------------  1.9/2.0 MB 8.8 MB/s eta 0:00:01\n",
      "     ---------------------------------------  1.9/2.0 MB 8.8 MB/s eta 0:00:01\n",
      "     ---------------------------------------  1.9/2.0 MB 8.8 MB/s eta 0:00:01\n",
      "     ---------------------------------------  1.9/2.0 MB 8.8 MB/s eta 0:00:01\n",
      "     ---------------------------------------- 2.0/2.0 MB 3.9 MB/s eta 0:00:00\n",
      "Requirement already satisfied: packaging in c:\\users\\user\\appdata\\roaming\\python\\python310\\site-packages (from tables) (23.1)\n",
      "Collecting py-cpuinfo (from tables)\n",
      "  Downloading py_cpuinfo-9.0.0-py3-none-any.whl (22 kB)\n",
      "Collecting msgpack (from blosc2~=2.0.0->tables)\n",
      "  Downloading msgpack-1.0.5-cp310-cp310-win_amd64.whl (61 kB)\n",
      "     ---------------------------------------- 0.0/61.6 kB ? eta -:--:--\n",
      "     ---------------------------------------  61.4/61.6 kB ? eta -:--:--\n",
      "     ---------------------------------------  61.4/61.6 kB ? eta -:--:--\n",
      "     ---------------------------------------  61.4/61.6 kB ? eta -:--:--\n",
      "     -------------------------------------- 61.6/61.6 kB 327.3 kB/s eta 0:00:00\n",
      "Downloading Cython-3.0.2-cp310-cp310-win_amd64.whl (2.8 MB)\n",
      "   ---------------------------------------- 0.0/2.8 MB ? eta -:--:--\n",
      "   ------ --------------------------------- 0.5/2.8 MB 9.6 MB/s eta 0:00:01\n",
      "   --------------- ------------------------ 1.0/2.8 MB 11.1 MB/s eta 0:00:01\n",
      "   ------------------------ --------------- 1.7/2.8 MB 11.0 MB/s eta 0:00:01\n",
      "   ------------------------------ --------- 2.1/2.8 MB 9.5 MB/s eta 0:00:01\n",
      "   ----------------------------------- ---- 2.5/2.8 MB 9.3 MB/s eta 0:00:01\n",
      "   ---------------------------------------  2.8/2.8 MB 9.3 MB/s eta 0:00:01\n",
      "   ---------------------------------------  2.8/2.8 MB 9.3 MB/s eta 0:00:01\n",
      "   ---------------------------------------  2.8/2.8 MB 9.3 MB/s eta 0:00:01\n",
      "   ---------------------------------------  2.8/2.8 MB 9.3 MB/s eta 0:00:01\n",
      "   ---------------------------------------  2.8/2.8 MB 9.3 MB/s eta 0:00:01\n",
      "   ---------------------------------------  2.8/2.8 MB 9.3 MB/s eta 0:00:01\n",
      "   ---------------------------------------  2.8/2.8 MB 9.3 MB/s eta 0:00:01\n",
      "   ---------------------------------------  2.8/2.8 MB 9.3 MB/s eta 0:00:01\n",
      "   ---------------------------------------  2.8/2.8 MB 9.3 MB/s eta 0:00:01\n",
      "   ---------------------------------------- 2.8/2.8 MB 3.8 MB/s eta 0:00:00\n",
      "Downloading numexpr-2.8.5-cp310-cp310-win_amd64.whl (94 kB)\n",
      "   ---------------------------------------- 0.0/94.4 kB ? eta -:--:--\n",
      "   ---------------------------------------  92.2/94.4 kB 5.1 MB/s eta 0:00:01\n",
      "   ---------------------------------------  92.2/94.4 kB 5.1 MB/s eta 0:00:01\n",
      "   ---------------------------------------  92.2/94.4 kB 5.1 MB/s eta 0:00:01\n",
      "   ---------------------------------------  92.2/94.4 kB 5.1 MB/s eta 0:00:01\n",
      "   ---------------------------------------- 94.4/94.4 kB 384.2 kB/s eta 0:00:00\n",
      "Installing collected packages: py-cpuinfo, msgpack, numexpr, cython, blosc2, tables\n",
      "Successfully installed blosc2-2.0.0 cython-3.0.2 msgpack-1.0.5 numexpr-2.8.5 py-cpuinfo-9.0.0 tables-3.8.0\n",
      "Requirement already satisfied: tables in c:\\users\\user\\appdata\\local\\programs\\python\\python310\\lib\\site-packages (3.8.0)\n",
      "Requirement already satisfied: cython>=0.29.21 in c:\\users\\user\\appdata\\local\\programs\\python\\python310\\lib\\site-packages (from tables) (3.0.2)\n",
      "Requirement already satisfied: numpy>=1.19.0 in c:\\users\\user\\appdata\\local\\programs\\python\\python310\\lib\\site-packages (from tables) (1.24.3)\n",
      "Requirement already satisfied: numexpr>=2.6.2 in c:\\users\\user\\appdata\\local\\programs\\python\\python310\\lib\\site-packages (from tables) (2.8.5)\n",
      "Requirement already satisfied: blosc2~=2.0.0 in c:\\users\\user\\appdata\\local\\programs\\python\\python310\\lib\\site-packages (from tables) (2.0.0)\n",
      "Requirement already satisfied: packaging in c:\\users\\user\\appdata\\roaming\\python\\python310\\site-packages (from tables) (23.1)\n",
      "Requirement already satisfied: py-cpuinfo in c:\\users\\user\\appdata\\local\\programs\\python\\python310\\lib\\site-packages (from tables) (9.0.0)\n",
      "Requirement already satisfied: msgpack in c:\\users\\user\\appdata\\local\\programs\\python\\python310\\lib\\site-packages (from blosc2~=2.0.0->tables) (1.0.5)\n"
     ]
    }
   ],
   "source": [
    "!pip install --upgrade tables"
   ]
  },
  {
   "cell_type": "code",
   "execution_count": 13,
   "metadata": {},
   "outputs": [
    {
     "ename": "IndentationError",
     "evalue": "unindent does not match any outer indentation level (<tokenize>, line 74)",
     "output_type": "error",
     "traceback": [
      "\u001b[1;36m  File \u001b[1;32m<tokenize>:74\u001b[1;36m\u001b[0m\n\u001b[1;33m    threshold = 0.9\u001b[0m\n\u001b[1;37m    ^\u001b[0m\n\u001b[1;31mIndentationError\u001b[0m\u001b[1;31m:\u001b[0m unindent does not match any outer indentation level\n"
     ]
    }
   ],
   "source": []
  },
  {
   "cell_type": "code",
   "execution_count": 14,
   "metadata": {},
   "outputs": [
    {
     "name": "stdout",
     "output_type": "stream",
     "text": [
      "Requirement already satisfied: pyngrok in c:\\users\\user\\appdata\\local\\programs\\python\\python310\\lib\\site-packages (6.0.0)\n",
      "Requirement already satisfied: PyYAML in c:\\users\\user\\appdata\\local\\programs\\python\\python310\\lib\\site-packages (from pyngrok) (6.0.1)\n"
     ]
    }
   ],
   "source": [
    "!pip install --upgrade pyngrok\n"
   ]
  },
  {
   "cell_type": "code",
   "execution_count": 15,
   "metadata": {},
   "outputs": [
    {
     "name": "stdout",
     "output_type": "stream",
     "text": [
      "Overwriting main.py\n"
     ]
    }
   ],
   "source": [
    "%%writefile main.py\n",
    "#def main():\n",
    "# The credit card fraud detection system web-based Gui code\n",
    "    import streamlit as st\n",
    "    import numpy as np\n",
    "    import tensorflow as tf\n",
    "    import pandas as pd\n",
    "    from keras.models import load_model\n",
    "    import h5py\n",
    "    import os\n",
    "\n",
    "\n",
    "\n",
    "    header = st.container()\n",
    "    dataset = st.container()\n",
    "    visualisations = st.container()\n",
    "    model_training = st.container()\n",
    "\n",
    "    @st.cache_data\n",
    "    def get_data(filename):\n",
    "        data = pd.read_csv(filename)\n",
    "        return data\n",
    "\n",
    "    with header:\n",
    "        st.title('Credit Card Fraud Detection System')\n",
    "        st.text('In my project, I looked into the trends of online fraudulent credit card transactions')\n",
    "\n",
    "\n",
    "    with dataset:\n",
    "        st.header('The Online Credit Card Transactions Dataset')\n",
    "        st.text('I got this dataset from Kaggle. It contains over six million samples and 11 features of online transactions')\n",
    "        st.subheader('The Datasets First Five Rows(The Head)')\n",
    "        online_transactions = get_data(\"C:/Users/User/Documents/Ntel Ola/GUI/transactions.csv\")\n",
    "        st.write(online_transactions.head())\n",
    "\n",
    "\n",
    "    with visualisations:\n",
    "        st.header('visualisation')\n",
    "        st.subheader('The Distribution of the Online Credit Card Transactions')\n",
    "        payment_type = pd.DataFrame(online_transactions['type'].value_counts())\n",
    "        st.bar_chart(payment_type)\n",
    "\n",
    "\n",
    "    with model_training:\n",
    "        st.header('The Collection of Users Input To Predict Fraudulent Transactions Using The Model')\n",
    "        st.text('I used  deep learning autoencoder algorithm (AE) to create the model')\n",
    "\n",
    "\n",
    "\n",
    "\n",
    "        st.text('The list of online credit card transaction types and their corresponding numbers')\n",
    "        st.markdown('CASH_OUT: 1')\n",
    "        st.markdown('PAYMENT: 2')\n",
    "        st.markdown('CASH_IN: 3')\n",
    "        st.markdown('TRANSFER: 4')\n",
    "        st.markdown('DEBIT: 5')\n",
    "\n",
    "        input_feature_1 = st.slider('What transaction are you performing?', min_value=1, max_value=5, step=1, value=1)\n",
    "        input_feature_2 = st.number_input('What amount would you like to input?', min_value=0.0, step=1000.0)\n",
    "        input_feature_3 = st.number_input('What is your current account balance?', min_value=0.0, step=1000.0)\n",
    "        input_feature_4 = st.number_input('What will your account balance be after the transaction?', min_value=0.0, step=1000.0)\n",
    "\n",
    "    model_path = \"C:/Users/User/Documents/Ntel Ola/GUI/autoencoder_output.h5\"\n",
    "    with h5py.File(model_path, 'r') as model_path:\n",
    "        model = tf.keras.models.load_model(model_path)\n",
    "\n",
    "        def preprocess_input(input_data):\n",
    "            return input_data\n",
    "\n",
    "\n",
    "            if st.button('predict'):\n",
    "                user_input = ([[input_feature_1, input_feature_2, input_feature_3, input_feature_4]])\n",
    "                preprocessed_input = preprocess_input(user_input)\n",
    "                prediction = model.predict(preprocessed_input)\n",
    "\n",
    "                threshold = 0.9\n",
    "                if prediction[0][0] > threshold :\n",
    "                    st.write('This transaction is **fraudulent**. ')\n",
    "                else:\n",
    "                    st.write('This transaction is **non fraudulent**. ')\n",
    "\n",
    "            st.write(f'*N.B:* _For Data Scientist threshold = 0.9 and Anomaly score: {prediction[0][0]}_')\n",
    "#if __name__ == \"__main__\":\n",
    "#    main()\n"
   ]
  },
  {
   "cell_type": "code",
   "execution_count": null,
   "metadata": {},
   "outputs": [
    {
     "ename": "",
     "evalue": "",
     "output_type": "error",
     "traceback": [
      "\u001b[1;31mFailed to start the Kernel. \n",
      "\u001b[1;31mUnable to start Kernel 'Python 3.10.6' due to a timeout waiting for the ports to get used. \n",
      "\u001b[1;31mView Jupyter <a href='command:jupyter.viewOutput'>log</a> for further details."
     ]
    }
   ],
   "source": []
  }
 ],
 "metadata": {
  "kernelspec": {
   "display_name": "Python 3",
   "language": "python",
   "name": "python3"
  },
  "language_info": {
   "codemirror_mode": {
    "name": "ipython",
    "version": 3
   },
   "file_extension": ".py",
   "mimetype": "text/x-python",
   "name": "python",
   "nbconvert_exporter": "python",
   "pygments_lexer": "ipython3",
   "version": "3.10.6"
  },
  "orig_nbformat": 4
 },
 "nbformat": 4,
 "nbformat_minor": 2
}
